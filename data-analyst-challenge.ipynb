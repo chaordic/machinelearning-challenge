{
 "cells": [
  {
   "cell_type": "markdown",
   "metadata": {},
   "source": [
    "# Data Analyst Intern\n",
    "Data Science team at LinxImpulse<br>\n",
    "datascience@chaordicsystems.com"
   ]
  },
  {
   "cell_type": "markdown",
   "metadata": {},
   "source": [
    "## Introduction\n",
    "\n",
    "Linx Impulse (previsously Linx+Neemu+Chaordic) is atop the world of e-commerce, delivering to each user a unique and personalized experience while shopping online. We have the biggest database of behavioral data of the Latam market and we use it to build amazing products that deliver product recommendations, search results and targetted newsletters to millions of people everyday.\n",
    "\n",
    "Our Data Scientists are on a mission to increment company value by applying statistics and machine learning techniques to our vast sea of data. We are looking for someone who can generate story from data and is willing to work in all stages of our pipeline.\n",
    "\n",
    "You will be the go-to person when it comes to product performance analysis and insights generation. Focusing exclusively on understanding the underlying mechanisms of how decisions can affect conversion, lift and other KPIs in our product suite. This is a position of high intra-company visibility since it requires frequent reporting to managers, directors and heads of all teams.\n",
    "\n",
    "But first, you have to prove yourself capable by overcoming this coding challenge. Since this is an opening for an intern position, we rely more on the potential shown in your solutions than on your CV to judge the candidates. So, do your best and good work!"
   ]
  },
  {
   "cell_type": "markdown",
   "metadata": {},
   "source": [
    "## The Challenge\n",
    "\n",
    "You are given a sample of a full week of anonymized interaction events from an e-commerce.<br>\n",
    "Your task is to understand the data and show us patterns and insights to further tune our solutions for that online retailer.\n",
    "\n",
    "For that purpose, you will have to:\n",
    "\n",
    " * Download and parse the data\n",
    " * Understand (research if needed) what is being asked to calculate\n",
    " * Write legible, reproducible and efficient code to compute those metrics\n",
    " * Report the results with the appropriate tables and plots\n"
   ]
  },
  {
   "cell_type": "markdown",
   "metadata": {},
   "source": [
    "## Inputs\n",
    "\n",
    "Just download from this link: https://s3.amazonaws.com/ml-challenge/ecommerce-events.ndjson.xz<br>\n",
    "20M compressed, 300M uncompressed.\n",
    "\n",
    "All events captured are stored in JSON format.\n",
    "There are 4 types of events therein: page, product, search and transaction.\n",
    "\n",
    "Below, every field of each type will be described. Many hints hidden there (Google is your friend)."
   ]
  },
  {
   "cell_type": "markdown",
   "metadata": {},
   "source": [
    "### Page\n",
    "Generic pageview event."
   ]
  },
  {
   "cell_type": "code",
   "execution_count": null,
   "metadata": {},
   "outputs": [],
   "source": [
    "{'eventType': 'page', # identifies the type of event\n",
    " 'date': '2017-06-03 18:20:53', # timestamp of event generation\n",
    " 'visitor': '4ce48a50-f688-11e6-aed6-b52bfa51fc22', # anonymous visitor persistent and unique identifier\n",
    " 'deviceType': 'mobile', # either desktop or mobile\n",
    " 'osType': 'Android', # extracted from user-agent\n",
    " 'osVersion': '6.0', # same\n",
    " 'browserType': 'Chrome Mobile', # same\n",
    " 'browserVersion': '58.0.3029', # same\n",
    " 'referrerType': 'search', # Google,Yahoo,Bing->search, Facebook,Instagram->social, other hosts->other, no referrer->direct\n",
    " 'utm_source': 'Partner_9', # redacted acquisition channel partner, extracted from the url querystring\n",
    " 'utm_medium': 'Medium_7', # redacted acquisition medium (normally email or ads), from querystring\n",
    " 'utm_campaign': 'Campaign_17', # redacted acquisition campaign (like cart abandonment email), from querystring\n",
    " 'pageType': 'subcategory', # useful to build a conversion funnel\n",
    " 'category': '319|689', # hierarchical product category (689 is inside 319)\n",
    " 'url': '7806427dfc116ddbbcb37095a477330851b0afe9', # hashed URL\n",
    " 'referrer': '18691404689e091548a691bf31b9995e8e7b9fcd' # hashed referrer\n",
    "}"
   ]
  },
  {
   "cell_type": "markdown",
   "metadata": {},
   "source": [
    "### Product\n",
    "\n",
    "Product details pageview event"
   ]
  },
  {
   "cell_type": "code",
   "execution_count": null,
   "metadata": {},
   "outputs": [],
   "source": [
    "{'eventType': 'product',\n",
    " 'date': '2017-06-01 13:35:13',\n",
    " 'visitor': '4806c650-46e8-11e7-8604-956bce5b488e',\n",
    " 'deviceType': 'desktop',\n",
    " 'osType': 'Windows',\n",
    " 'osVersion': '7',\n",
    " 'browserType': 'Chrome',\n",
    " 'browserVersion': '58.0.3029',\n",
    " 'referrerType': 'direct',\n",
    " 'utm_source': 'Partner_4',\n",
    " 'utm_medium': 'Medium_3',\n",
    " 'utm_campaign': 'Campaign_3',\n",
    " 'pageType': 'product',\n",
    " 'category': '558|727',\n",
    " 'url': '9a1cbff5cbff8666be513efeee781a71ff556f5f',\n",
    " 'referrer': None,\n",
    " 'product': 5639, # product unique identification\n",
    " 'tags': ['216', '695', '944'], # tag codes associated with that product\n",
    " 'price': 24.9, # product value\n",
    " 'status': 'AVAILABLE' # AVAILABLE, UNAVAILABLE or REMOVED\n",
    "}"
   ]
  },
  {
   "cell_type": "markdown",
   "metadata": {},
   "source": [
    "### Search\n",
    "\n",
    "Search results pageview event"
   ]
  },
  {
   "cell_type": "code",
   "execution_count": null,
   "metadata": {},
   "outputs": [],
   "source": [
    "{'eventType': 'search',\n",
    " 'date': '2017-06-03 09:02:06',\n",
    " 'visitor': '0eccdd90-477d-11e6-b479-450984b9b0b7',\n",
    " 'deviceType': 'desktop',\n",
    " 'osType': 'Windows',\n",
    " 'osVersion': None,\n",
    " 'browserType': 'Chrome',\n",
    " 'browserVersion': '51.0.2683',\n",
    " 'referrerType': None,\n",
    " 'utm_source': None,\n",
    " 'utm_medium': None,\n",
    " 'utm_campaign': None,\n",
    " 'pageType': 'search',\n",
    " 'category': None,\n",
    " 'url': '95a9fe3739eef4f7f38c6c0644e319ba77a1349a',\n",
    " 'referrer': '5c808dff012fcbe74dc2941a7664e357db367176',\n",
    " 'query': 'papel ou casa ventosa', # obfuscated search query\n",
    " 'searchItems': [6077,15749,3398,8007, # products returned as a result of that query, respecting the order they were shown\n",
    "                 18741,832,19311,12891,\n",
    "                 3264,16885,20613,156,\n",
    "                 11030,16204,2247,127,\n",
    "                 17178,6166,268,1851,\n",
    "                 2521,20810,16551,18626]\n",
    "}"
   ]
  },
  {
   "cell_type": "markdown",
   "metadata": {},
   "source": [
    "### Transaction\n",
    "\n",
    "Purchase confirmation pageview event"
   ]
  },
  {
   "cell_type": "code",
   "execution_count": null,
   "metadata": {},
   "outputs": [],
   "source": [
    "{'eventType': 'transaction',\n",
    " 'date': '2017-06-01 17:30:54',\n",
    " 'visitor': '84cc0d00-462c-11e7-93a0-39eac0558d08',\n",
    " 'deviceType': 'desktop',\n",
    " 'osType': 'Windows',\n",
    " 'osVersion': None,\n",
    " 'browserType': 'Firefox',\n",
    " 'browserVersion': '53.0.0',\n",
    " 'referrerType': None,\n",
    " 'utm_source': None,\n",
    " 'utm_medium': None,\n",
    " 'utm_campaign': None,\n",
    " 'pageType': 'confirmation',\n",
    " 'category': None,\n",
    " 'url': 'da7caa77e2729e12b32a9d7d1a324652ce2264a6',\n",
    " 'referrer': '6e03ee62984224d0c0f08d4b68b819297d7f4d14',\n",
    " 'order': 5545, # unique transaction identification\n",
    " 'orderItems': [{ # list of products in the cart in that transaction\n",
    "     'product': 16493, # product id\n",
    "     'price': 19.9, # product unit price\n",
    "     'quantity': 1.0 # number of units bought\n",
    "  },\n",
    "  {'product': 1432, 'price': 20.9, 'quantity': 1.0},\n",
    "  {'product': 4621, 'price': 395.01, 'quantity': 1.0}]\n",
    "}"
   ]
  },
  {
   "cell_type": "markdown",
   "metadata": {},
   "source": [
    "## Questions\n",
    "\n",
    "Using this dataset, retrieve the demanded information.\n",
    "\n",
    "As you progress, you will notice the questions become increasingly methodologically ambigous. You will have to make decisions, and explicitely state them, on what assumptions or simplifications were made.\n",
    "\n",
    "Always keep in mind that usefulness is the most important characteristc of any good metric.\n",
    "\n",
    "Also, timing is more important than completeness. So, we prefer that you hand us less answers but thorough ones than all of them but half baked or belated. Go as far as you can, until the deadline."
   ]
  },
  {
   "cell_type": "markdown",
   "metadata": {},
   "source": [
    "### 1. What was the total revenue?\n",
    "\n",
    "### 2. What percentage of visitors used a mobile device?\n",
    "\n",
    "### 3. What search query had the highest click-through rate?\n",
    "Among queries with at least 15 instances.<br>\n",
    "It's considered a click if the target page is a product page and its product id was in the list of search results.\n",
    "\n",
    "### 4. When is the site most busy?\n",
    "Do both what part of the day and what day of the week.\n",
    "\n",
    "### 5. What is the share of revenue among categories brought by Campaign_2?\n",
    "Use last touch attribution\n",
    "\n",
    "### 6. Estimate the impact of unavailable products\n",
    "Bonus points if you consider cross-elasticity<br>\n",
    "(don't fret too much. deliver something, no model is ever going to be perfect anyway)"
   ]
  },
  {
   "cell_type": "markdown",
   "metadata": {},
   "source": [
    "## Results delivery\n",
    "\n",
    "1. __The main deliverable is a Report with your answers__.<br>\n",
    "And accompanying details, such as criteria used and neat plots.\n",
    "\n",
    "\n",
    "2. __You may use any language, tools, and cloud services you want.__<br>\n",
    "But if you use Python we will like you more ;)\n",
    "\n",
    "\n",
    "3. __If you do well on the Report, we will want to see your code.__<br>\n",
    "Which should be hosted on github or another online repository you can share with us.\n"
   ]
  },
  {
   "cell_type": "markdown",
   "metadata": {},
   "source": [
    "## Documentation\n",
    "\n",
    "We encourage you to write down every step down the road. Design decisions, references you used, difficulties and insights, and partial results.<br>\n",
    "That way, wrapping it all up when we call you for the interview should be a breeze."
   ]
  },
  {
   "cell_type": "markdown",
   "metadata": {},
   "source": [
    "If you have any doubts, feel free to contact us at datascience@chaordic.com.br."
   ]
  }
 ],
 "metadata": {
  "anaconda-cloud": {},
  "kernelspec": {
   "display_name": "Python [conda env:py3k]",
   "language": "python",
   "name": "conda-env-py3k-py"
  },
  "language_info": {
   "codemirror_mode": {
    "name": "ipython",
    "version": 3
   },
   "file_extension": ".py",
   "mimetype": "text/x-python",
   "name": "python",
   "nbconvert_exporter": "python",
   "pygments_lexer": "ipython3",
   "version": "3.6.6"
  }
 },
 "nbformat": 4,
 "nbformat_minor": 2
}
