{
 "cells": [
  {
   "cell_type": "markdown",
   "metadata": {},
   "source": [
    "# Machine Learning Engineer Challenge\n",
    "Data Science team @Linx+Neemu+Chaordic<br>\n",
    "datascience@chaordicsystems.com"
   ]
  },
  {
   "cell_type": "markdown",
   "metadata": {},
   "source": [
    "## Introduction\n",
    "\n",
    "We have the data (buckets of it, literally)<br>\n",
    "We have the business partners (very likely you have already seen our products in action unknowingly)<br>\n",
    "We have the vision (solid plan to keep improving our solutions)\n",
    "\n",
    "All's left is to build it, that's where we hope you will fit in.<br>\n",
    "We need your brains and brawns to complete our Data Science team.\n",
    "\n",
    "But first, you have to overcome this challenge.<br>\n",
    "And as you will surely find out, time'll be your worst problem"
   ]
  },
  {
   "cell_type": "markdown",
   "metadata": {},
   "source": [
    "## The Challenge\n",
    "\n",
    "You are given a sample of anonymized product views and purchases from an e-commerce.<br>\n",
    "Your task is to design, build, generate and serve user-based recommendations.<br>\n",
    "Given a user identification, what products should we suggest in his next visit?\n",
    "\n",
    "#### Oh, and you've got one week to deliver.\n",
    "\n",
    "A tad bit crazy, right? Yeah, maybe. But give it your best shot.<br>\n",
    "Focus on what you do best and just outline what would be the complete solution on the other parts.\n",
    "\n",
    "We'll even help you. Here's a list of what is expected. So pick one or some topics and code away.<br>\n",
    "Of course, you are welcome to exceed our expectations!<br>\n",
    "\n",
    " * __Infrastructure__: data ingestion, distributed processing, system architecture\n",
    " * __Algorithm__: job logic, parameters choice, recommendations output file\n",
    " * __Evaluation__: choice of metrics, quality assurance, feedback\n",
    " * __API__: interface, scalability, robustness, fallback\n"
   ]
  },
  {
   "cell_type": "markdown",
   "metadata": {},
   "source": [
    "## Inputs\n",
    "\n",
    "First off, be careful! Those are huge files. And huge files are like ice cream: if you put too much in your mouth at once you may freeze your brain.\n",
    "\n",
    "### Views\n",
    "Product details pageviews.\n",
    "\n",
    "https://s3.amazonaws.com/ml-challenge/pdpviews.ndjson.xz<br>\n",
    "1.6G compressed, 23G uncompressed!!\n",
    "\n",
    "\n",
    "Every time a page containing product details is rendered, a JSON object containing data about that page and that visitor are collected and sent to our servers.\n",
    "\n",
    "Here is an example of one such object. You will find one of those on each line of the decompressed file.\n",
    "\n",
    "\n",
    "```\n",
    "{'browser_id': '2e9fd3d80f230b7a8f3f6341f6e889769e14b8f6',\n",
    "  'price': 949.9,\n",
    "  'product_id': 'C62-1129-032',\n",
    "  'source': 'desktop',\n",
    "  'timestamp': '2017-12-04 21:52:24',\n",
    "  'user_id': '2e9fd3d80f230b7a8f3f6341f6e889769e14b8f6'}\n",
    "```\n",
    "\n",
    "### Transactions\n",
    "Purchase transactions.\n",
    "\n",
    "https://s3.amazonaws.com/ml-challenge/transactions.ndjson.xz<br>\n",
    "177M, 850M uncompressed\n",
    "\n",
    "These are captured when a buy order confirmation page is rendered. Same thing, each time a JSON object is recorded with information about the products bought and the visitor.\n",
    "\n",
    "```\n",
    "{'browser_id': 'aafaa51f8275a3dfb49ad4675c292211d4d163c8',\n",
    "  'items': [{'price': 389.9, 'product_id': 'D19-1148-791', 'quantity': 1}],\n",
    "  'source': 'desktop',\n",
    "  'timestamp': '2017-11-01 00:00:03',\n",
    "  'transaction_id': '8de8a7899940aab99dc7ff1fc929de35bd42717f',\n",
    "  'user_id': '9bd939c1d07e73b49b294f2f6c16a3eb6e5e9463'}\n",
    "```\n",
    "\n"
   ]
  },
  {
   "cell_type": "markdown",
   "metadata": {},
   "source": [
    "## Glossary\n",
    "\n",
    " * browser_id: unique and persistent identifier of the device+browser used to access the website\n",
    " * user_id: if different from browser_id, it's the login user identification (same one across devices)\n",
    " * price: product price tag\n",
    " * product_id: unique identifier of the product\n",
    " * source: device type\n",
    " * timestamp: date and time of event capture\n",
    " * items: list of products purchased in that order\n",
    " * transaction_id: unique identifier of the buy order\n",
    " * quantity: number of items of that product acquired"
   ]
  },
  {
   "cell_type": "markdown",
   "metadata": {},
   "source": [
    "## Deliverables and Rules\n",
    "\n",
    "1. __All code you produce must be hosted on github or another online repository you can share.__<br>\n",
    "So that we can evaluate your work\n",
    "\n",
    "2. __You may use any language, tools, and cloud services you want.__<br>\n",
    "But if you use Python we will like you more ;)\n",
    "\n",
    "3. __There will be a presentation and it can be done live or video call.__<br>\n",
    "Come visit us!\n",
    "\n",
    "Feel free to contact us at **datascience@chaordic.com.br**."
   ]
  }
 ],
 "metadata": {
  "kernelspec": {
   "display_name": "Python 3",
   "language": "python",
   "name": "python3"
  },
  "language_info": {
   "codemirror_mode": {
    "name": "ipython",
    "version": 3
   },
   "file_extension": ".py",
   "mimetype": "text/x-python",
   "name": "python",
   "nbconvert_exporter": "python",
   "pygments_lexer": "ipython3",
   "version": "3.6.4"
  }
 },
 "nbformat": 4,
 "nbformat_minor": 2
}
